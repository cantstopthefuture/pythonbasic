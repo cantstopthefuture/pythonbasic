{
  "nbformat": 4,
  "nbformat_minor": 0,
  "metadata": {
    "colab": {
      "name": "rapid fire.ipynb",
      "provenance": [],
      "collapsed_sections": [],
      "authorship_tag": "ABX9TyM/I8SeUfqlZVEHLOkQ7aD+",
      "include_colab_link": true
    },
    "kernelspec": {
      "name": "python3",
      "display_name": "Python 3"
    },
    "language_info": {
      "name": "python"
    }
  },
  "cells": [
    {
      "cell_type": "markdown",
      "metadata": {
        "id": "view-in-github",
        "colab_type": "text"
      },
      "source": [
        "<a href=\"https://colab.research.google.com/github/cantstopthefuture/pythonbasic/blob/main/rapid_fire.ipynb\" target=\"_parent\"><img src=\"https://colab.research.google.com/assets/colab-badge.svg\" alt=\"Open In Colab\"/></a>"
      ]
    },
    {
      "cell_type": "code",
      "metadata": {
        "id": "wxmv7ylCrAW3"
      },
      "source": [
        "# 1. What do I Want\n",
        "# stating the problem\n",
        "\n",
        "# What do i need?\n",
        "# Design your problem solution (Algotrithm)\n",
        "\n",
        "# What do I have?\n",
        "# This is data provided by either the problem itself or assumed data."
      ],
      "execution_count": null,
      "outputs": []
    },
    {
      "cell_type": "code",
      "metadata": {
        "id": "c0_LEfBYwfOQ"
      },
      "source": [
        "Return the count of a given substring\n",
        "\n",
        "\n",
        "I want to get any substring and the get a subset of it then count the length\n",
        "\n",
        "\n",
        "I need a string on any form. and then i would take the length of it using the len ()function.\n",
        "len(strg2)\n",
        "len(strg3)\n",
        "len(strg0)\n",
        "\n",
        "I can just make a string myself. or ask the user for something.\n",
        "strg0 = input('tell me something: ')\n",
        "strg01 = strg0[-1:4]\n",
        "strg = 'Any string'\n",
        "strg2 ='Any'\n",
        "strg3 = srtg[1:5]"
      ],
      "execution_count": null,
      "outputs": []
    },
    {
      "cell_type": "code",
      "metadata": {
        "colab": {
          "base_uri": "https://localhost:8080/"
        },
        "id": "PYYf4JwDzTWm",
        "outputId": "7a46b9fe-a790-4923-d05c-eb08aea2d785"
      },
      "source": [
        "strg0 = input('tell me something: ')\n",
        "strg01 = strg0[-1:4]\n",
        "strg = 'Any string'\n",
        "strg2 ='Any'\n",
        "strg3 = srtg[1:5]"
      ],
      "execution_count": 1,
      "outputs": [
        {
          "output_type": "stream",
          "name": "stdout",
          "text": [
            "1\n"
          ]
        }
      ]
    },
    {
      "cell_type": "code",
      "metadata": {
        "id": "iVsFCnUAzT8a"
      },
      "source": [
        "strg0 = input('tell me something:')\n",
        "strg01 = strg0[-1:4]\n",
        "print(f'The user ')"
      ],
      "execution_count": null,
      "outputs": []
    },
    {
      "cell_type": "code",
      "metadata": {
        "id": "CHu6AiYT5PZc"
      },
      "source": [
        "Display numbers divisible by 5 from a list.\n",
        "\n",
        "What do I want?\n",
        "Numbers divisible by 5\n",
        "\n",
        "What do I need?\n",
        "A list of numbers\n",
        "\n",
        "What do I have?\n",
        "I have a list\n",
        "\n",
        "num[11, 56, 78, 4, 55, 70, 39, 56, 21, 20, 15]\n",
        "print(f'Given my list: {numbers}')\n",
        "print('numbers divisible by 5 from the list are: ')\n",
        "for i in num:\n",
        "  if i % 5 == 0:\n",
        "    print(i)"
      ],
      "execution_count": null,
      "outputs": []
    },
    {
      "cell_type": "code",
      "metadata": {
        "colab": {
          "base_uri": "https://localhost:8080/"
        },
        "id": "bGdkAzAo_sqk",
        "outputId": "24758462-d1e4-4175-904b-4c97931e35d2"
      },
      "source": [
        "num = [11, 56, 78, 4, 55, 70, 39, 56, 21, 20, 15]\n",
        "print(f'Given my list: {num}')\n",
        "print('numbers divisible by 5 from the list are: ')\n",
        "for i in num:\n",
        "  if i % 5 == 0:\n",
        "    print(i)"
      ],
      "execution_count": 5,
      "outputs": [
        {
          "output_type": "stream",
          "name": "stdout",
          "text": [
            "Given my list: [11, 56, 78, 4, 55, 70, 39, 56, 21, 20, 15]\n",
            "numbers divisible by 5 from the list are: \n",
            "55\n",
            "70\n",
            "20\n",
            "15\n"
          ]
        }
      ]
    },
    {
      "cell_type": "code",
      "metadata": {
        "id": "MlX5jkwSAfwr"
      },
      "source": [
        "Check if the first and last number of a list is the same"
      ],
      "execution_count": null,
      "outputs": []
    },
    {
      "cell_type": "code",
      "metadata": {
        "colab": {
          "base_uri": "https://localhost:8080/",
          "height": 129
        },
        "id": "IQfiWHwTElQT",
        "outputId": "2f98e3e9-4595-497a-f9bc-9ecede64055b"
      },
      "source": [
        "num = [2, 4, 6, 23, 5, 6, 78, 98, 654, 86, 345, 68, 34, 4]\n",
        "\n",
        "first = num[0]\n",
        "last = num[-1]\n",
        "\n",
        "if first == last:\n",
        "  print(True')\n",
        "else:\n",
        "  print('False')"
      ],
      "execution_count": 7,
      "outputs": [
        {
          "output_type": "error",
          "ename": "SyntaxError",
          "evalue": "ignored",
          "traceback": [
            "\u001b[0;36m  File \u001b[0;32m\"<ipython-input-7-844ebfb40447>\"\u001b[0;36m, line \u001b[0;32m7\u001b[0m\n\u001b[0;31m    print(True')\u001b[0m\n\u001b[0m                ^\u001b[0m\n\u001b[0;31mSyntaxError\u001b[0m\u001b[0;31m:\u001b[0m EOL while scanning string literal\n"
          ]
        }
      ]
    },
    {
      "cell_type": "code",
      "metadata": {
        "id": "q73fd8p1Hwrz"
      },
      "source": [
        "#This program prints or generates multiplication table of number 1 to 10 in Python language.\n",
        "Generate multiplication table of number 1 to 10 using for loop."
      ],
      "execution_count": null,
      "outputs": []
    },
    {
      "cell_type": "code",
      "metadata": {
        "colab": {
          "base_uri": "https://localhost:8080/"
        },
        "id": "2beBuhCxFbeE",
        "outputId": "49cada8e-b5b9-462e-ef0d-00c45ba16d3f"
      },
      "source": [
        "for i in range(1,11):\n",
        "    print(\"\\n\\nMULTIPLICATION TABLE FOR %d\\n\" %(i))\n",
        "    for j in range(1,11):\n",
        "        print(\"%-5d X %5d = %5d\" % (i, j, i*j))"
      ],
      "execution_count": 8,
      "outputs": [
        {
          "output_type": "stream",
          "name": "stdout",
          "text": [
            "\n",
            "\n",
            "MULTIPLICATION TABLE FOR 1\n",
            "\n",
            "1     X     1 =     1\n",
            "1     X     2 =     2\n",
            "1     X     3 =     3\n",
            "1     X     4 =     4\n",
            "1     X     5 =     5\n",
            "1     X     6 =     6\n",
            "1     X     7 =     7\n",
            "1     X     8 =     8\n",
            "1     X     9 =     9\n",
            "1     X    10 =    10\n",
            "\n",
            "\n",
            "MULTIPLICATION TABLE FOR 2\n",
            "\n",
            "2     X     1 =     2\n",
            "2     X     2 =     4\n",
            "2     X     3 =     6\n",
            "2     X     4 =     8\n",
            "2     X     5 =    10\n",
            "2     X     6 =    12\n",
            "2     X     7 =    14\n",
            "2     X     8 =    16\n",
            "2     X     9 =    18\n",
            "2     X    10 =    20\n",
            "\n",
            "\n",
            "MULTIPLICATION TABLE FOR 3\n",
            "\n",
            "3     X     1 =     3\n",
            "3     X     2 =     6\n",
            "3     X     3 =     9\n",
            "3     X     4 =    12\n",
            "3     X     5 =    15\n",
            "3     X     6 =    18\n",
            "3     X     7 =    21\n",
            "3     X     8 =    24\n",
            "3     X     9 =    27\n",
            "3     X    10 =    30\n",
            "\n",
            "\n",
            "MULTIPLICATION TABLE FOR 4\n",
            "\n",
            "4     X     1 =     4\n",
            "4     X     2 =     8\n",
            "4     X     3 =    12\n",
            "4     X     4 =    16\n",
            "4     X     5 =    20\n",
            "4     X     6 =    24\n",
            "4     X     7 =    28\n",
            "4     X     8 =    32\n",
            "4     X     9 =    36\n",
            "4     X    10 =    40\n",
            "\n",
            "\n",
            "MULTIPLICATION TABLE FOR 5\n",
            "\n",
            "5     X     1 =     5\n",
            "5     X     2 =    10\n",
            "5     X     3 =    15\n",
            "5     X     4 =    20\n",
            "5     X     5 =    25\n",
            "5     X     6 =    30\n",
            "5     X     7 =    35\n",
            "5     X     8 =    40\n",
            "5     X     9 =    45\n",
            "5     X    10 =    50\n",
            "\n",
            "\n",
            "MULTIPLICATION TABLE FOR 6\n",
            "\n",
            "6     X     1 =     6\n",
            "6     X     2 =    12\n",
            "6     X     3 =    18\n",
            "6     X     4 =    24\n",
            "6     X     5 =    30\n",
            "6     X     6 =    36\n",
            "6     X     7 =    42\n",
            "6     X     8 =    48\n",
            "6     X     9 =    54\n",
            "6     X    10 =    60\n",
            "\n",
            "\n",
            "MULTIPLICATION TABLE FOR 7\n",
            "\n",
            "7     X     1 =     7\n",
            "7     X     2 =    14\n",
            "7     X     3 =    21\n",
            "7     X     4 =    28\n",
            "7     X     5 =    35\n",
            "7     X     6 =    42\n",
            "7     X     7 =    49\n",
            "7     X     8 =    56\n",
            "7     X     9 =    63\n",
            "7     X    10 =    70\n",
            "\n",
            "\n",
            "MULTIPLICATION TABLE FOR 8\n",
            "\n",
            "8     X     1 =     8\n",
            "8     X     2 =    16\n",
            "8     X     3 =    24\n",
            "8     X     4 =    32\n",
            "8     X     5 =    40\n",
            "8     X     6 =    48\n",
            "8     X     7 =    56\n",
            "8     X     8 =    64\n",
            "8     X     9 =    72\n",
            "8     X    10 =    80\n",
            "\n",
            "\n",
            "MULTIPLICATION TABLE FOR 9\n",
            "\n",
            "9     X     1 =     9\n",
            "9     X     2 =    18\n",
            "9     X     3 =    27\n",
            "9     X     4 =    36\n",
            "9     X     5 =    45\n",
            "9     X     6 =    54\n",
            "9     X     7 =    63\n",
            "9     X     8 =    72\n",
            "9     X     9 =    81\n",
            "9     X    10 =    90\n",
            "\n",
            "\n",
            "MULTIPLICATION TABLE FOR 10\n",
            "\n",
            "10    X     1 =    10\n",
            "10    X     2 =    20\n",
            "10    X     3 =    30\n",
            "10    X     4 =    40\n",
            "10    X     5 =    50\n",
            "10    X     6 =    60\n",
            "10    X     7 =    70\n",
            "10    X     8 =    80\n",
            "10    X     9 =    90\n",
            "10    X    10 =   100\n"
          ]
        }
      ]
    },
    {
      "cell_type": "code",
      "metadata": {
        "id": "wHwvQ5owLtVG"
      },
      "source": [
        "Display the current date and time"
      ],
      "execution_count": null,
      "outputs": []
    },
    {
      "cell_type": "code",
      "metadata": {
        "colab": {
          "base_uri": "https://localhost:8080/"
        },
        "id": "uXwcpZ3OL3J1",
        "outputId": "2f18847a-a725-4ff1-be35-30cf491bb954"
      },
      "source": [
        "import datetime\n",
        "now = datetime.datetime.now()\n",
        "print (\"Current date and time : \")\n",
        "print (now.strftime(\"%Y-%m-%d %H:%M:%S\"))"
      ],
      "execution_count": 9,
      "outputs": [
        {
          "output_type": "stream",
          "name": "stdout",
          "text": [
            "Current date and time : \n",
            "2021-11-12 17:26:15\n"
          ]
        }
      ]
    },
    {
      "cell_type": "markdown",
      "metadata": {
        "id": "IFytYkSQMBuI"
      },
      "source": [
        "#The datetime module supplies classes for manipulating dates and times in both simple and complex ways. datetime.now(tz=None) returns the current local date and time. If optional argument tz is None or not specified, this is like today()."
      ]
    },
    {
      "cell_type": "markdown",
      "metadata": {
        "id": "uI-PYYZMO5wy"
      },
      "source": [
        "#Print first and last name in reverse order with a space between them."
      ]
    },
    {
      "cell_type": "code",
      "metadata": {
        "colab": {
          "base_uri": "https://localhost:8080/"
        },
        "id": "7itN4SnCPSEP",
        "outputId": "62c1980f-f70e-403e-fb4a-bc9382d46556"
      },
      "source": [
        "fname = input(\"Input your First Name : \")\n",
        "lname = input(\"Input your Last Name : \")\n",
        "print (\"Hello  \" + lname + \" \" + fname)"
      ],
      "execution_count": 10,
      "outputs": [
        {
          "output_type": "stream",
          "name": "stdout",
          "text": [
            "Input your First Name : Allen\n",
            "Input your Last Name : Gotkin\n",
            "Hello  Gotkin Allen\n"
          ]
        }
      ]
    },
    {
      "cell_type": "markdown",
      "metadata": {
        "id": "wEybkTjXPTTL"
      },
      "source": [
        "#Display the first and last color from a given list"
      ]
    },
    {
      "cell_type": "code",
      "metadata": {
        "colab": {
          "base_uri": "https://localhost:8080/"
        },
        "id": "_oPXjGBORuM2",
        "outputId": "81c216d0-1591-4d40-c771-4987be187185"
      },
      "source": [
        "color_list = [\"Red\",\"Green\",\"White\" ,\"Black\"]\n",
        "print( \"%s %s\"%(color_list[0],color_list[-1]))"
      ],
      "execution_count": 11,
      "outputs": [
        {
          "output_type": "stream",
          "name": "stdout",
          "text": [
            "Red Black\n"
          ]
        }
      ]
    },
    {
      "cell_type": "code",
      "metadata": {
        "id": "AttSBxCqRvVr"
      },
      "source": [
        "color_list = [\"Red\",\"Green\",\"White\" ,\"Black\"]"
      ],
      "execution_count": 12,
      "outputs": []
    },
    {
      "cell_type": "code",
      "metadata": {
        "id": "SiEbS_5UUGnc"
      },
      "source": [
        "Input an integer (n) and computes the value of n+nn=nn"
      ],
      "execution_count": null,
      "outputs": []
    },
    {
      "cell_type": "code",
      "metadata": {
        "colab": {
          "base_uri": "https://localhost:8080/"
        },
        "id": "6QOh7RxdVrlq",
        "outputId": "c81c7345-8b5c-4fda-e739-916dd3cdb2bc"
      },
      "source": [
        "a = int(input(\"Input an integer : \"))\n",
        "n1 = int( \"%s\" % a )\n",
        "n2 = int( \"%s%s\" % (a,a) )\n",
        "n3 = int( \"%s%s%s\" % (a,a,a) )\n",
        "print (n1+n2+n3)"
      ],
      "execution_count": 13,
      "outputs": [
        {
          "output_type": "stream",
          "name": "stdout",
          "text": [
            "Input an integer : 5\n",
            "615\n"
          ]
        }
      ]
    },
    {
      "cell_type": "code",
      "metadata": {
        "id": "Ut-yAfPKV_Bk"
      },
      "source": [
        "The function returns an integer object constructed from a number or string x, or return 0 if no arguments are given. If x is a number, return x.__int__(). For floating point numbers, this truncates towards zero.\n",
        "\n",
        "If x is not a number or if base is given, then x must be a string, bytes, or bytearray instance representing an integer literal in radix base\n",
        "The literal can be preceded by + or - (with no space in between) and surrounded by whitespace\n",
        "A base-n literal consists of the digits 0 to n-1, with a to z (or A to Z) having values 10 to 35. The default base is 10.\n",
        "The allowed values are 0 and 2-36. Base-2, -8, and -16 literals can be optionally prefixed with 0b/0B, 0o/0O, or 0x/0X, as with integer literals in code."
      ],
      "execution_count": null,
      "outputs": []
    },
    {
      "cell_type": "code",
      "metadata": {
        "id": "3XLLoJGrYu4K"
      },
      "source": [
        "Write a python script to print the calender of a given month and year"
      ],
      "execution_count": null,
      "outputs": []
    },
    {
      "cell_type": "code",
      "metadata": {
        "colab": {
          "base_uri": "https://localhost:8080/"
        },
        "id": "P6rwPTpQY-K3",
        "outputId": "fe8c7209-b124-47f0-ba57-6e8fd3d47b7a"
      },
      "source": [
        "import calendar\n",
        "y = int(input(\"Input the year : \"))\n",
        "m = int(input(\"Input the month : \"))\n",
        "print(calendar.month(y, m))"
      ],
      "execution_count": 15,
      "outputs": [
        {
          "output_type": "stream",
          "name": "stdout",
          "text": [
            "Input the year : 2021\n",
            "Input the month : 11\n",
            "   November 2021\n",
            "Mo Tu We Th Fr Sa Su\n",
            " 1  2  3  4  5  6  7\n",
            " 8  9 10 11 12 13 14\n",
            "15 16 17 18 19 20 21\n",
            "22 23 24 25 26 27 28\n",
            "29 30\n",
            "\n"
          ]
        }
      ]
    },
    {
      "cell_type": "code",
      "metadata": {
        "id": "ysKtcfIsY--8"
      },
      "source": [
        "Python calendar.month(theyear, themonth, w=0, l=0):\n",
        "\n",
        "The function returns a month’s calendar in a multi-line string using the formatmonth() of the TextCalendar class.\n",
        "\n",
        "'l' specifies the number of lines that each week will use."
      ],
      "execution_count": null,
      "outputs": []
    },
    {
      "cell_type": "code",
      "metadata": {
        "id": "-q5DGdizcu87"
      },
      "source": [
        "pi = 3.1415926535897931\n",
        "r= 6.0\n",
        "V= 4.0/3.0*pi* r**3"
      ],
      "execution_count": 16,
      "outputs": []
    },
    {
      "cell_type": "code",
      "metadata": {
        "id": "GkN5iZZTcvw2"
      },
      "source": [
        "Write a python script to find whether a given number (accept from the user) is even or odd."
      ],
      "execution_count": null,
      "outputs": []
    },
    {
      "cell_type": "code",
      "metadata": {
        "colab": {
          "base_uri": "https://localhost:8080/"
        },
        "id": "S2ehKsgbfpX8",
        "outputId": "08ae66e4-571b-4ad4-b099-465f5a7633d2"
      },
      "source": [
        "num = int(input(\"Enter a number: \"))  \n",
        "if (num % 2) == 0:  \n",
        "   print(\"{0} is Even number\".format(num))  \n",
        "else:  \n",
        "   print(\"{0} is Odd number\".format(num))  "
      ],
      "execution_count": 17,
      "outputs": [
        {
          "output_type": "stream",
          "name": "stdout",
          "text": [
            "Enter a number: 6\n",
            "6 is Even number\n"
          ]
        }
      ]
    },
    {
      "cell_type": "code",
      "metadata": {
        "id": "z41NZnQDfqWt"
      },
      "source": [
        "Python: Volume of a Sphere\n",
        "\n",
        "A sphere is a three-dimensional solid with no face, no edge, no base and no vertex. It is a round body with all points on its surface equidistant from the center. The volume of a sphere is measured in cubic units.\n",
        "\n",
        "The volume of the sphere is : V = 4/3 × π × r3 = π × d3/6."
      ],
      "execution_count": null,
      "outputs": []
    },
    {
      "cell_type": "code",
      "metadata": {
        "id": "9A8J54Dri4-1"
      },
      "source": [
        "Write a python program to count the number 7 in a given list."
      ],
      "execution_count": null,
      "outputs": []
    },
    {
      "cell_type": "code",
      "metadata": {
        "id": "3GA_d96_lG6_"
      },
      "source": [
        "Def list_count_79nums):\n",
        "  count = 0 \n",
        "  for num in nums:\n",
        "    if num == 7:\n",
        "      count = count + 1\n",
        "\n",
        "      return count"
      ],
      "execution_count": null,
      "outputs": []
    },
    {
      "cell_type": "markdown",
      "metadata": {
        "id": "bC7q5NM4nMNy"
      },
      "source": [
        "#A script that will accept the base and height of a triangle and compute the area."
      ]
    },
    {
      "cell_type": "code",
      "metadata": {
        "colab": {
          "base_uri": "https://localhost:8080/"
        },
        "id": "B9PhIn5Lnp3A",
        "outputId": "caf6467e-2a62-4470-a653-ae16e1b41168"
      },
      "source": [
        "b = int(input(\"Input the base : \"))\n",
        "h = int(input(\"Input the height : \"))\n",
        "\n",
        "area = b*h/2\n",
        "\n",
        "print(\"area = \", area)"
      ],
      "execution_count": 21,
      "outputs": [
        {
          "output_type": "stream",
          "name": "stdout",
          "text": [
            "Input the base : 35\n",
            "Input the height : 85\n",
            "area =  1487.5\n"
          ]
        }
      ]
    },
    {
      "cell_type": "code",
      "metadata": {
        "id": "jfLtSRMOnqhm"
      },
      "source": [
        "# Python Program to find Area of a Triangle using base and height\n",
        "def area_of_triangle(base, height):\n",
        "    return (base * height) / 2\n",
        "\n",
        "base = float(input('Please Enter the Base of a Triangle: '))\n",
        "height = float(input('Please Enter the Height of a Triangle: '))\n",
        "\n",
        "# calculate the area\n",
        "area = area_of_triangle(base, height)\n",
        "print(\"The Area of a Triangle using\", base, \"and\", height, \" = \", area)"
      ],
      "execution_count": null,
      "outputs": []
    }
  ]
}