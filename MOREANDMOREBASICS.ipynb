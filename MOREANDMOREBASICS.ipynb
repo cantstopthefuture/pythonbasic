{
  "nbformat": 4,
  "nbformat_minor": 0,
  "metadata": {
    "colab": {
      "name": "MOREANDMOREBASICS.ipynb",
      "provenance": [],
      "authorship_tag": "ABX9TyO/y8Tl2xo0TfJQJfpqcetD",
      "include_colab_link": true
    },
    "kernelspec": {
      "name": "python3",
      "display_name": "Python 3"
    },
    "language_info": {
      "name": "python"
    }
  },
  "cells": [
    {
      "cell_type": "markdown",
      "metadata": {
        "id": "view-in-github",
        "colab_type": "text"
      },
      "source": [
        "<a href=\"https://colab.research.google.com/github/cantstopthefuture/pythonbasic/blob/main/MOREANDMOREBASICS.ipynb\" target=\"_parent\"><img src=\"https://colab.research.google.com/assets/colab-badge.svg\" alt=\"Open In Colab\"/></a>"
      ]
    },
    {
      "cell_type": "markdown",
      "metadata": {
        "id": "XWvNHJkAbMIA"
      },
      "source": [
        "#Booleans"
      ]
    },
    {
      "cell_type": "markdown",
      "metadata": {
        "id": "whlSTSvYjWJi"
      },
      "source": [
        "True\n",
        "##This is a boolean operator "
      ]
    },
    {
      "cell_type": "code",
      "metadata": {
        "colab": {
          "base_uri": "https://localhost:8080/"
        },
        "id": "5oK4l0J3jX3o",
        "outputId": "56993237-2621-44e4-ed53-a1753eb738ec"
      },
      "source": [
        "type(True)\n",
        "Bool is true"
      ],
      "execution_count": null,
      "outputs": [
        {
          "output_type": "execute_result",
          "data": {
            "text/plain": [
              "bool"
            ]
          },
          "metadata": {},
          "execution_count": 3
        }
      ]
    },
    {
      "cell_type": "code",
      "metadata": {
        "colab": {
          "base_uri": "https://localhost:8080/"
        },
        "id": "cKV8jt_Ljbro",
        "outputId": "4a809fc7-ba6e-48a9-c14c-a0883c8b5d8e"
      },
      "source": [
        "False"
      ],
      "execution_count": null,
      "outputs": [
        {
          "output_type": "execute_result",
          "data": {
            "text/plain": [
              "False"
            ]
          },
          "metadata": {},
          "execution_count": 4
        }
      ]
    },
    {
      "cell_type": "markdown",
      "metadata": {
        "id": "bd13JwDDjokX"
      },
      "source": [
        "type(False)\n"
      ]
    },
    {
      "cell_type": "code",
      "metadata": {
        "colab": {
          "base_uri": "https://localhost:8080/"
        },
        "id": "VFexg7nEjudY",
        "outputId": "e128423e-67e8-4c9a-9f6c-05a182c8de00"
      },
      "source": [
        "10 > 9"
      ],
      "execution_count": null,
      "outputs": [
        {
          "output_type": "execute_result",
          "data": {
            "text/plain": [
              "True"
            ]
          },
          "metadata": {},
          "execution_count": 6
        }
      ]
    },
    {
      "cell_type": "markdown",
      "metadata": {
        "id": "oWO7zGoUkRkV"
      },
      "source": [
        "# Comparison Operators"
      ]
    },
    {
      "cell_type": "code",
      "metadata": {
        "id": "f7Q9Ww55kQ8b",
        "colab": {
          "base_uri": "https://localhost:8080/"
        },
        "outputId": "b75d3121-90e5-49b5-abd4-18f0e44b8383"
      },
      "source": [
        "2 == len('hi')"
      ],
      "execution_count": 7,
      "outputs": [
        {
          "output_type": "execute_result",
          "data": {
            "text/plain": [
              "True"
            ]
          },
          "metadata": {},
          "execution_count": 7
        }
      ]
    },
    {
      "cell_type": "code",
      "metadata": {
        "id": "n-Pqup3Pjzgo",
        "colab": {
          "base_uri": "https://localhost:8080/"
        },
        "outputId": "4a58755e-2b82-4a54-fda0-c93cfcc74f8b"
      },
      "source": [
        "5 != 7"
      ],
      "execution_count": 10,
      "outputs": [
        {
          "output_type": "execute_result",
          "data": {
            "text/plain": [
              "True"
            ]
          },
          "metadata": {},
          "execution_count": 10
        }
      ]
    },
    {
      "cell_type": "code",
      "metadata": {
        "id": "chPf0IT9keHD",
        "colab": {
          "base_uri": "https://localhost:8080/"
        },
        "outputId": "22987822-e957-464c-bd8d-7934bcf7183f"
      },
      "source": [
        "5 != 5"
      ],
      "execution_count": 11,
      "outputs": [
        {
          "output_type": "execute_result",
          "data": {
            "text/plain": [
              "False"
            ]
          },
          "metadata": {},
          "execution_count": 11
        }
      ]
    },
    {
      "cell_type": "code",
      "metadata": {
        "colab": {
          "base_uri": "https://localhost:8080/"
        },
        "id": "28Vuy1pIlbwI",
        "outputId": "f812ca95-4226-48c4-c358-2b11dd54a3e9"
      },
      "source": [
        "7 > 9"
      ],
      "execution_count": 12,
      "outputs": [
        {
          "output_type": "execute_result",
          "data": {
            "text/plain": [
              "False"
            ]
          },
          "metadata": {},
          "execution_count": 12
        }
      ]
    },
    {
      "cell_type": "code",
      "metadata": {
        "colab": {
          "base_uri": "https://localhost:8080/"
        },
        "id": "QKdg1vy2llBv",
        "outputId": "e3bda148-16e5-45a3-dd42-bfff8893ab4d"
      },
      "source": [
        "78 < 898"
      ],
      "execution_count": 13,
      "outputs": [
        {
          "output_type": "execute_result",
          "data": {
            "text/plain": [
              "True"
            ]
          },
          "metadata": {},
          "execution_count": 13
        }
      ]
    },
    {
      "cell_type": "markdown",
      "metadata": {
        "id": "17M3gRGflwin"
      },
      "source": [
        "#Logical operators"
      ]
    },
    {
      "cell_type": "code",
      "metadata": {
        "colab": {
          "base_uri": "https://localhost:8080/"
        },
        "id": "k8wEsnVul73i",
        "outputId": "946c9344-3b49-45ca-a071-c3f45e71cde4"
      },
      "source": [
        "3 > 2 > 1"
      ],
      "execution_count": 14,
      "outputs": [
        {
          "output_type": "execute_result",
          "data": {
            "text/plain": [
              "True"
            ]
          },
          "metadata": {},
          "execution_count": 14
        }
      ]
    },
    {
      "cell_type": "code",
      "metadata": {
        "colab": {
          "base_uri": "https://localhost:8080/"
        },
        "id": "41P7GxlKmAYA",
        "outputId": "a62d6781-a3c8-4d90-fb2a-36798eee6ed7"
      },
      "source": [
        "3 > 2 < 1"
      ],
      "execution_count": 15,
      "outputs": [
        {
          "output_type": "execute_result",
          "data": {
            "text/plain": [
              "False"
            ]
          },
          "metadata": {},
          "execution_count": 15
        }
      ]
    },
    {
      "cell_type": "code",
      "metadata": {
        "colab": {
          "base_uri": "https://localhost:8080/"
        },
        "id": "3apzIFxumENY",
        "outputId": "0de8cd55-dace-415a-e46b-6e591841daca"
      },
      "source": [
        "3 > 2 and 2 > 1"
      ],
      "execution_count": 16,
      "outputs": [
        {
          "output_type": "execute_result",
          "data": {
            "text/plain": [
              "True"
            ]
          },
          "metadata": {},
          "execution_count": 16
        }
      ]
    },
    {
      "cell_type": "code",
      "metadata": {
        "colab": {
          "base_uri": "https://localhost:8080/"
        },
        "id": "20KbrABSmMGg",
        "outputId": "ab04b151-eeb7-42c3-a1d4-efb4ee44ea81"
      },
      "source": [
        "(3 > 2 and 2 < 1) or (34 < 2 or 7 > 2)"
      ],
      "execution_count": 17,
      "outputs": [
        {
          "output_type": "execute_result",
          "data": {
            "text/plain": [
              "True"
            ]
          },
          "metadata": {},
          "execution_count": 17
        }
      ]
    },
    {
      "cell_type": "code",
      "metadata": {
        "colab": {
          "base_uri": "https://localhost:8080/"
        },
        "id": "Q2xDaz_nn-4H",
        "outputId": "73b871d9-72cf-45dc-950d-bf16bbee38a1"
      },
      "source": [
        "len('hello') < len('hi' )"
      ],
      "execution_count": 23,
      "outputs": [
        {
          "output_type": "execute_result",
          "data": {
            "text/plain": [
              "False"
            ]
          },
          "metadata": {},
          "execution_count": 23
        }
      ]
    },
    {
      "cell_type": "markdown",
      "metadata": {
        "id": "c5JnhSBZppGY"
      },
      "source": [
        "##More on list"
      ]
    },
    {
      "cell_type": "code",
      "metadata": {
        "id": "mwrJ6Y2ztURK"
      },
      "source": [
        "myList = [2, 3, 5, 7, 8, 9]\n",
        "\n",
        "oneWordSeconWord\n",
        "OneWordSeconworld\n",
        "one_word\n",
        "_oneword\n",
        "GLOBAL"
      ],
      "execution_count": 25,
      "outputs": []
    },
    {
      "cell_type": "code",
      "metadata": {
        "colab": {
          "base_uri": "https://localhost:8080/"
        },
        "id": "ee6dY58ZuB9A",
        "outputId": "86e3ad08-f42c-473c-ed31-da45b3c04ef3"
      },
      "source": [
        "# count\n",
        "myList.count(4)"
      ],
      "execution_count": 26,
      "outputs": [
        {
          "output_type": "execute_result",
          "data": {
            "text/plain": [
              "0"
            ]
          },
          "metadata": {},
          "execution_count": 26
        }
      ]
    },
    {
      "cell_type": "markdown",
      "metadata": {
        "id": "mA7THNWnxZnM"
      },
      "source": [
        "# extend"
      ]
    },
    {
      "cell_type": "code",
      "metadata": {
        "id": "tdZlSfGV5FE7"
      },
      "source": [
        ""
      ],
      "execution_count": null,
      "outputs": []
    }
  ]
}