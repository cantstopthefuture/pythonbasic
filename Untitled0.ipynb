{
  "nbformat": 4,
  "nbformat_minor": 0,
  "metadata": {
    "colab": {
      "name": "Untitled0.ipynb",
      "provenance": [],
      "collapsed_sections": [],
      "authorship_tag": "ABX9TyOGzR0XkFkcI+mza4G49Qhh",
      "include_colab_link": true
    },
    "kernelspec": {
      "name": "python3",
      "display_name": "Python 3"
    },
    "language_info": {
      "name": "python"
    }
  },
  "cells": [
    {
      "cell_type": "markdown",
      "metadata": {
        "id": "view-in-github",
        "colab_type": "text"
      },
      "source": [
        "<a href=\"https://colab.research.google.com/github/cantstopthefuture/pythonbasic/blob/main/Untitled0.ipynb\" target=\"_parent\"><img src=\"https://colab.research.google.com/assets/colab-badge.svg\" alt=\"Open In Colab\"/></a>"
      ]
    },
    {
      "cell_type": "code",
      "metadata": {
        "id": "JDZraeL-34hf"
      },
      "source": [
        "num = 6786"
      ],
      "execution_count": 1,
      "outputs": []
    },
    {
      "cell_type": "code",
      "metadata": {
        "id": "4-DNwdhc5cg8"
      },
      "source": [
        "conv = oct(num)"
      ],
      "execution_count": 2,
      "outputs": []
    },
    {
      "cell_type": "code",
      "metadata": {
        "colab": {
          "base_uri": "https://localhost:8080/"
        },
        "id": "pT2mXvWG5hZo",
        "outputId": "97c396ad-6951-4d0f-def4-219426e41001"
      },
      "source": [
        "print(f'The number {num} in Octal form is {conv}')"
      ],
      "execution_count": 3,
      "outputs": [
        {
          "output_type": "stream",
          "name": "stdout",
          "text": [
            "The number 6786 in Octal form is 0o15202\n"
          ]
        }
      ]
    },
    {
      "cell_type": "code",
      "metadata": {
        "id": "5hdUDcbM5wBi"
      },
      "source": [
        "conv2 = hex(num)"
      ],
      "execution_count": 5,
      "outputs": []
    },
    {
      "cell_type": "code",
      "metadata": {
        "colab": {
          "base_uri": "https://localhost:8080/"
        },
        "id": "PvL97YJb6z_h",
        "outputId": "f50b6129-127f-4c80-fc05-e82553aa12a1"
      },
      "source": [
        "print(f'The number {num} in Octal form is {conv2}')"
      ],
      "execution_count": 7,
      "outputs": [
        {
          "output_type": "stream",
          "name": "stdout",
          "text": [
            "The number 6786 in Octal form is 0x1a82\n"
          ]
        }
      ]
    },
    {
      "cell_type": "code",
      "metadata": {
        "id": "ElrPPTV968MQ"
      },
      "source": [
        "\n"
      ],
      "execution_count": null,
      "outputs": []
    },
    {
      "cell_type": "code",
      "metadata": {
        "id": "hDv1hPxL7S4H"
      },
      "source": [
        "numb = int(input('Enter a number:'))\n",
        "conv = oct(numb)\n",
        "conv2 = hex(numb)\n",
        "conv3 =bin(num)\n",
        "print(f'The number {numb} in Octal form is {con2}')')"
      ],
      "execution_count": null,
      "outputs": []
    },
    {
      "cell_type": "markdown",
      "metadata": {
        "id": "y_izIPAH89Mx"
      },
      "source": [
        "#Temperature Conversion"
      ]
    },
    {
      "cell_type": "code",
      "metadata": {
        "id": "SSnjJlbl9Gkp"
      },
      "source": [
        "# F - C conversion\n",
        "\n",
        "# C - F\n",
        "\n",
        "# C - K or F - K"
      ],
      "execution_count": null,
      "outputs": []
    },
    {
      "cell_type": "code",
      "metadata": {
        "id": "h_sxBVA99GhD"
      },
      "source": [
        ""
      ],
      "execution_count": null,
      "outputs": []
    },
    {
      "cell_type": "code",
      "metadata": {
        "id": "tGL5QvfB9Gbf"
      },
      "source": [
        ""
      ],
      "execution_count": null,
      "outputs": []
    },
    {
      "cell_type": "code",
      "metadata": {
        "id": "rjwg_nTP9GYP"
      },
      "source": [
        ""
      ],
      "execution_count": null,
      "outputs": []
    }
  ]
}