{
  "nbformat": 4,
  "nbformat_minor": 0,
  "metadata": {
    "colab": {
      "name": "Functions.ipynb",
      "provenance": [],
      "collapsed_sections": [],
      "authorship_tag": "ABX9TyOACJOCFcoNSkz5hpZESgTd",
      "include_colab_link": true
    },
    "kernelspec": {
      "name": "python3",
      "display_name": "Python 3"
    },
    "language_info": {
      "name": "python"
    }
  },
  "cells": [
    {
      "cell_type": "markdown",
      "metadata": {
        "id": "view-in-github",
        "colab_type": "text"
      },
      "source": [
        "<a href=\"https://colab.research.google.com/github/cantstopthefuture/pythonbasic/blob/main/Functions.ipynb\" target=\"_parent\"><img src=\"https://colab.research.google.com/assets/colab-badge.svg\" alt=\"Open In Colab\"/></a>"
      ]
    },
    {
      "cell_type": "code",
      "metadata": {
        "id": "ZYEP9rakKteg"
      },
      "source": [
        "## Defining a function.\n",
        "\n",
        "def my_function():\n",
        "  print('Hello there')"
      ],
      "execution_count": 1,
      "outputs": []
    },
    {
      "cell_type": "code",
      "metadata": {
        "colab": {
          "base_uri": "https://localhost:8080/"
        },
        "id": "uq70IVQCMS9-",
        "outputId": "c662bc48-8053-460c-b723-0b713d1be157"
      },
      "source": [
        "my_function()"
      ],
      "execution_count": 2,
      "outputs": [
        {
          "output_type": "stream",
          "name": "stdout",
          "text": [
            "Hello there\n"
          ]
        }
      ]
    },
    {
      "cell_type": "code",
      "metadata": {
        "colab": {
          "base_uri": "https://localhost:8080/"
        },
        "id": "drLJ-GTaMZGN",
        "outputId": "b2e4a498-9633-4932-d559-f8f336b103cf"
      },
      "source": [
        "my_function"
      ],
      "execution_count": 3,
      "outputs": [
        {
          "output_type": "execute_result",
          "data": {
            "text/plain": [
              "<function __main__.my_function>"
            ]
          },
          "metadata": {},
          "execution_count": 3
        }
      ]
    },
    {
      "cell_type": "code",
      "metadata": {
        "id": "I6oL0Ww-NjYl"
      },
      "source": [
        "def my_function2():\n",
        "  \"\"\"\n",
        "  Created by: The creator\n",
        "  Input: None\n",
        "  Output: It prints 'Hello'\n",
        "  \"\"\"\n",
        "  print('Hello')"
      ],
      "execution_count": 7,
      "outputs": []
    },
    {
      "cell_type": "code",
      "metadata": {
        "colab": {
          "base_uri": "https://localhost:8080/"
        },
        "id": "INFDxGXsNmxW",
        "outputId": "f4ffc3ba-d5cb-402c-fcb3-5d2b13af7886"
      },
      "source": [
        "my_function2()"
      ],
      "execution_count": 8,
      "outputs": [
        {
          "output_type": "stream",
          "name": "stdout",
          "text": [
            "Hello\n"
          ]
        }
      ]
    },
    {
      "cell_type": "code",
      "metadata": {
        "id": "7peZVObaN7-k"
      },
      "source": [
        "def greetings(name):\n",
        "  print('Hi there ' + name)"
      ],
      "execution_count": 10,
      "outputs": []
    },
    {
      "cell_type": "code",
      "metadata": {
        "colab": {
          "base_uri": "https://localhost:8080/"
        },
        "id": "SQdciiITO5Rc",
        "outputId": "2aa5b9fa-bb16-498b-a7d2-7e77c89f7385"
      },
      "source": [
        "greetings('Allen')"
      ],
      "execution_count": 11,
      "outputs": [
        {
          "output_type": "stream",
          "name": "stdout",
          "text": [
            "Hi there Allen\n"
          ]
        }
      ]
    },
    {
      "cell_type": "code",
      "metadata": {
        "id": "n_j7npTRPFoM"
      },
      "source": [
        "def greeting(name='Tim' ):\n",
        "  print(f'Hi there {name}')"
      ],
      "execution_count": 12,
      "outputs": []
    },
    {
      "cell_type": "code",
      "metadata": {
        "colab": {
          "base_uri": "https://localhost:8080/"
        },
        "id": "fNsEwhexP6KT",
        "outputId": "2b5c90cb-e023-4a29-926c-63c8254c9ba1"
      },
      "source": [
        "greetings('Eric')"
      ],
      "execution_count": 13,
      "outputs": [
        {
          "output_type": "stream",
          "name": "stdout",
          "text": [
            "Hi there Eric\n"
          ]
        }
      ]
    },
    {
      "cell_type": "code",
      "metadata": {
        "id": "f6AjTjJYP-1E"
      },
      "source": [
        "def greeting(name='Tim' ):\n",
        "  return f'Hi there {name}'"
      ],
      "execution_count": 14,
      "outputs": []
    },
    {
      "cell_type": "code",
      "metadata": {
        "colab": {
          "base_uri": "https://localhost:8080/"
        },
        "id": "0KFzrYu3QR2s",
        "outputId": "650a05ed-38ee-412b-874e-cb69e64c44ce"
      },
      "source": [
        "greetings"
      ],
      "execution_count": 16,
      "outputs": [
        {
          "output_type": "execute_result",
          "data": {
            "text/plain": [
              "<function __main__.greetings>"
            ]
          },
          "metadata": {},
          "execution_count": 16
        }
      ]
    },
    {
      "cell_type": "code",
      "metadata": {
        "id": "DmvSezivTdNC"
      },
      "source": [
        "def add(x, y, z):\n",
        "  '''\n",
        "  created by: The Creator\n",
        "  Input: This function takes three number parameters.\n",
        "  Output: This function returns the addition of the three given number parameters.\n",
        "  '''\n",
        "  int(input('Enter a number for x ')\n",
        "  int(input('Enter a number for y ')\n",
        "  int(input('Enter a number for z ')\n",
        "  return f'The addition of x, y, and z is: {x=y=z}'"
      ],
      "execution_count": null,
      "outputs": []
    },
    {
      "cell_type": "code",
      "metadata": {
        "colab": {
          "base_uri": "https://localhost:8080/",
          "height": 165
        },
        "id": "0Qi-R9ZuVCyR",
        "outputId": "d5957bff-8ab8-4675-ebc4-bf7ccdcb33ed"
      },
      "source": [
        "add(x, y, z)"
      ],
      "execution_count": 25,
      "outputs": [
        {
          "output_type": "error",
          "ename": "NameError",
          "evalue": "ignored",
          "traceback": [
            "\u001b[0;31m---------------------------------------------------------------------------\u001b[0m",
            "\u001b[0;31mNameError\u001b[0m                                 Traceback (most recent call last)",
            "\u001b[0;32m<ipython-input-25-a3bb59a52747>\u001b[0m in \u001b[0;36m<module>\u001b[0;34m()\u001b[0m\n\u001b[0;32m----> 1\u001b[0;31m \u001b[0madd\u001b[0m\u001b[0;34m(\u001b[0m\u001b[0mx\u001b[0m\u001b[0;34m,\u001b[0m \u001b[0my\u001b[0m\u001b[0;34m,\u001b[0m \u001b[0mz\u001b[0m\u001b[0;34m)\u001b[0m\u001b[0;34m\u001b[0m\u001b[0;34m\u001b[0m\u001b[0m\n\u001b[0m",
            "\u001b[0;31mNameError\u001b[0m: name 'x' is not defined"
          ]
        }
      ]
    },
    {
      "cell_type": "code",
      "metadata": {
        "colab": {
          "base_uri": "https://localhost:8080/"
        },
        "id": "juS1VkSVVGvp",
        "outputId": "46b34488-cc4e-406e-c12f-fad6ac5a24c3"
      },
      "source": [
        "help(add)\n"
      ],
      "execution_count": 26,
      "outputs": [
        {
          "output_type": "stream",
          "name": "stdout",
          "text": [
            "Help on function add in module __main__:\n",
            "\n",
            "add(x, y, z)\n",
            "\n"
          ]
        }
      ]
    },
    {
      "cell_type": "code",
      "metadata": {
        "id": "fV6bI3XvZ5gV"
      },
      "source": [
        "def even_numbers(lst):\n",
        "  '''\n",
        "  Created by: The Creator\n",
        "  Input: This functions takes a list of digits.\n",
        "  Output: This function rturns a list of even numbers\n",
        "  '''\n",
        "  num = []\n",
        "  for x in lst:\n",
        "    if x % 2 ==0:\n",
        "      num.append(x)\n",
        "      return(num)"
      ],
      "execution_count": 27,
      "outputs": []
    },
    {
      "cell_type": "code",
      "metadata": {
        "colab": {
          "base_uri": "https://localhost:8080/"
        },
        "id": "U3qW8jRrbIVc",
        "outputId": "a156e901-3ee0-4692-c00b-8684dc2b4b89"
      },
      "source": [
        "even_numbers([34, 6, 7, 4, 3, 11, 67, 89, 45,36, 1923])"
      ],
      "execution_count": 28,
      "outputs": [
        {
          "output_type": "execute_result",
          "data": {
            "text/plain": [
              "[34]"
            ]
          },
          "metadata": {},
          "execution_count": 28
        }
      ]
    },
    {
      "cell_type": "code",
      "metadata": {
        "id": "KtPqccyrboud"
      },
      "source": [
        "def odd_numbers(lst):\n",
        "  '''\n",
        "  Created by: The Creator\n",
        "  Input: This functions takes a list of digits.\n",
        "  Output: This function rturns a list of odd numbers\n",
        "  '''\n",
        "  num = []\n",
        "  for x in lst:\n",
        "    if x % 3 ==0:\n",
        "      num.append(x)\n",
        "  return(num)"
      ],
      "execution_count": 32,
      "outputs": []
    },
    {
      "cell_type": "code",
      "metadata": {
        "colab": {
          "base_uri": "https://localhost:8080/"
        },
        "id": "Rju1BvT9fSLE",
        "outputId": "f48f1616-8e20-40fb-a9df-09fb503d1ad8"
      },
      "source": [
        "odd_numbers([34, 6, 7, 4, 3, 11, 67, 89, 45,36, 1923])"
      ],
      "execution_count": 33,
      "outputs": [
        {
          "output_type": "execute_result",
          "data": {
            "text/plain": [
              "[6, 3, 45, 36, 1923]"
            ]
          },
          "metadata": {},
          "execution_count": 33
        }
      ]
    },
    {
      "cell_type": "code",
      "metadata": {
        "id": "T5JPDTn_mrVV"
      },
      "source": [
        "def new_fcnt('a, b,):\n",
        "  return sum((a,b))* 0.4\n"
      ],
      "execution_count": null,
      "outputs": []
    },
    {
      "cell_type": "code",
      "metadata": {
        "id": "nUxM9sxJqLQT"
      },
      "source": [
        "pr(30, 70)"
      ],
      "execution_count": null,
      "outputs": []
    },
    {
      "cell_type": "code",
      "metadata": {
        "id": "6Ksys-jPmvlc"
      },
      "source": [
        "# **kwargs"
      ],
      "execution_count": null,
      "outputs": []
    },
    {
      "cell_type": "code",
      "metadata": {
        "id": "UHCb5L16vO0K"
      },
      "source": [
        "def new_funct4(**kwargs):\n",
        "  print(kwargs:\n",
        "  if 'flower'in kwargs:\n",
        "    print(we have {} for you!'.format(kwargs[Flower']))\n",
        "  else:\n",
        "    print('We do not have flowers for you!')"
      ],
      "execution_count": null,
      "outputs": []
    },
    {
      "cell_type": "code",
      "metadata": {
        "colab": {
          "base_uri": "https://localhost:8080/",
          "height": 165
        },
        "id": "M8LJfxoGvRoD",
        "outputId": "a3cdd46f-0e26-46eb-974e-8a05d29f76a4"
      },
      "source": [
        "new_funct4(color = 'Orange', flower = 'Rose')"
      ],
      "execution_count": 36,
      "outputs": [
        {
          "output_type": "error",
          "ename": "NameError",
          "evalue": "ignored",
          "traceback": [
            "\u001b[0;31m---------------------------------------------------------------------------\u001b[0m",
            "\u001b[0;31mNameError\u001b[0m                                 Traceback (most recent call last)",
            "\u001b[0;32m<ipython-input-36-c51bd5007606>\u001b[0m in \u001b[0;36m<module>\u001b[0;34m()\u001b[0m\n\u001b[0;32m----> 1\u001b[0;31m \u001b[0mnew_funct4\u001b[0m\u001b[0;34m(\u001b[0m\u001b[0mcolor\u001b[0m \u001b[0;34m=\u001b[0m \u001b[0;34m'Orange'\u001b[0m\u001b[0;34m,\u001b[0m \u001b[0mflower\u001b[0m \u001b[0;34m=\u001b[0m \u001b[0;34m'Rose'\u001b[0m\u001b[0;34m)\u001b[0m\u001b[0;34m\u001b[0m\u001b[0;34m\u001b[0m\u001b[0m\n\u001b[0m",
            "\u001b[0;31mNameError\u001b[0m: name 'new_funct4' is not defined"
          ]
        }
      ]
    },
    {
      "cell_type": "code",
      "metadata": {
        "id": "Op--AbBMwQ5J"
      },
      "source": [
        ""
      ],
      "execution_count": null,
      "outputs": []
    }
  ]
}