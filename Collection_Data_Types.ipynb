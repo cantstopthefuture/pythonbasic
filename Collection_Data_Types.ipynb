{
  "nbformat": 4,
  "nbformat_minor": 0,
  "metadata": {
    "colab": {
      "name": "Collection Data Types.ipynb",
      "provenance": [],
      "authorship_tag": "ABX9TyNMohQ0/Ed6kc3cEoZHsWZy",
      "include_colab_link": true
    },
    "kernelspec": {
      "name": "python3",
      "display_name": "Python 3"
    },
    "language_info": {
      "name": "python"
    }
  },
  "cells": [
    {
      "cell_type": "markdown",
      "metadata": {
        "id": "view-in-github",
        "colab_type": "text"
      },
      "source": [
        "<a href=\"https://colab.research.google.com/github/cantstopthefuture/pythonbasic/blob/main/Collection_Data_Types.ipynb\" target=\"_parent\"><img src=\"https://colab.research.google.com/assets/colab-badge.svg\" alt=\"Open In Colab\"/></a>"
      ]
    },
    {
      "cell_type": "markdown",
      "metadata": {
        "id": "kBvDljijfO-y"
      },
      "source": [
        "#Collection Data Types"
      ]
    },
    {
      "cell_type": "markdown",
      "metadata": {
        "id": "nh4uH3EofxAj"
      },
      "source": [
        "## Lists"
      ]
    },
    {
      "cell_type": "code",
      "metadata": {
        "colab": {
          "base_uri": "https://localhost:8080/"
        },
        "id": "R4GzDyQsfw6R",
        "outputId": "74b431be-e0b5-4bcc-ba0e-02ebcc89a282"
      },
      "source": [
        "mylist = [ 'Hello', 100,23.47]\n",
        "print(mylist)"
      ],
      "execution_count": 2,
      "outputs": [
        {
          "output_type": "stream",
          "name": "stdout",
          "text": [
            "['Hello', 100, 23.47]\n"
          ]
        }
      ]
    },
    {
      "cell_type": "code",
      "metadata": {
        "id": "KQ1mX-6Qfw3N"
      },
      "source": [
        ""
      ],
      "execution_count": null,
      "outputs": []
    },
    {
      "cell_type": "markdown",
      "metadata": {
        "id": "z32DfDNwfw0Z"
      },
      "source": [
        "##Dictionaries"
      ]
    },
    {
      "cell_type": "code",
      "metadata": {
        "colab": {
          "base_uri": "https://localhost:8080/"
        },
        "id": "xViybSdUfwxp",
        "outputId": "3287e584-716f-4c35-d955-3ddde78878d0"
      },
      "source": [
        "myDict = {'key 1':'value1', 'key2': 'value2', 'key3:':'value3'}\n",
        "myDict"
      ],
      "execution_count": 10,
      "outputs": [
        {
          "output_type": "execute_result",
          "data": {
            "text/plain": [
              "{'key 1': 'value1', 'key2': 'value2', 'key3:': 'value3'}"
            ]
          },
          "metadata": {},
          "execution_count": 10
        }
      ]
    },
    {
      "cell_type": "code",
      "metadata": {
        "colab": {
          "base_uri": "https://localhost:8080/",
          "height": 35
        },
        "id": "3eLbkmPRfwuX",
        "outputId": "1b7fcee6-bc3a-4bea-874a-4c7347404960"
      },
      "source": [
        "myDict['key1'] = 'mangos'\n",
        "myDict['key1'] "
      ],
      "execution_count": 12,
      "outputs": [
        {
          "output_type": "execute_result",
          "data": {
            "application/vnd.google.colaboratory.intrinsic+json": {
              "type": "string"
            },
            "text/plain": [
              "'mangos'"
            ]
          },
          "metadata": {},
          "execution_count": 12
        }
      ]
    },
    {
      "cell_type": "code",
      "metadata": {
        "colab": {
          "base_uri": "https://localhost:8080/"
        },
        "id": "zDF2Mxkptslz",
        "outputId": "b0ddd85e-588f-403b-868c-5deffef4daa7"
      },
      "source": [
        "myDict"
      ],
      "execution_count": 13,
      "outputs": [
        {
          "output_type": "execute_result",
          "data": {
            "text/plain": [
              "{'key 1': 'value1', 'key1': 'mangos', 'key2': 'value2', 'key3:': 'value3'}"
            ]
          },
          "metadata": {},
          "execution_count": 13
        }
      ]
    },
    {
      "cell_type": "code",
      "metadata": {
        "id": "jwr9_4oJtyDV"
      },
      "source": [
        "myDict = {'ki': 147, 'k2': [14, 67, 8], 'k3': {'Cherry': 3}}"
      ],
      "execution_count": 14,
      "outputs": []
    },
    {
      "cell_type": "code",
      "metadata": {
        "colab": {
          "base_uri": "https://localhost:8080/"
        },
        "id": "9bJKNDXWuYGd",
        "outputId": "c4a33a71-abf1-44b7-b24d-af8597c2ed2e"
      },
      "source": [
        "myDict.keys()"
      ],
      "execution_count": 15,
      "outputs": [
        {
          "output_type": "execute_result",
          "data": {
            "text/plain": [
              "dict_keys(['ki', 'k2', 'k3'])"
            ]
          },
          "metadata": {},
          "execution_count": 15
        }
      ]
    },
    {
      "cell_type": "code",
      "metadata": {
        "id": "ypZDzPjOuhfz"
      },
      "source": [
        "myDict2.values9"
      ],
      "execution_count": null,
      "outputs": []
    },
    {
      "cell_type": "markdown",
      "metadata": {
        "id": "md9ahDasfwFk"
      },
      "source": [
        "##Tuples"
      ]
    },
    {
      "cell_type": "code",
      "metadata": {
        "id": "mjk9OxBKmuL8"
      },
      "source": [
        "perfect numbers = 1, 4, 9, 16, 25, 36\n"
      ],
      "execution_count": null,
      "outputs": []
    },
    {
      "cell_type": "markdown",
      "metadata": {
        "id": "--2EdRBrmx22"
      },
      "source": [
        "#Indexing through lists"
      ]
    }
  ]
}