{
  "nbformat": 4,
  "nbformat_minor": 0,
  "metadata": {
    "colab": {
      "name": "SimpleCalulator.ipynb",
      "provenance": [],
      "collapsed_sections": [],
      "authorship_tag": "ABX9TyNZMiI4dQK/qui1175KTwsa",
      "include_colab_link": true
    },
    "kernelspec": {
      "name": "python3",
      "display_name": "Python 3"
    },
    "language_info": {
      "name": "python"
    }
  },
  "cells": [
    {
      "cell_type": "markdown",
      "metadata": {
        "id": "view-in-github",
        "colab_type": "text"
      },
      "source": [
        "<a href=\"https://colab.research.google.com/github/cantstopthefuture/pythonbasic/blob/main/SimpleCalulator.ipynb\" target=\"_parent\"><img src=\"https://colab.research.google.com/assets/colab-badge.svg\" alt=\"Open In Colab\"/></a>"
      ]
    },
    {
      "cell_type": "code",
      "metadata": {
        "id": "3TOsR5yxbHMB"
      },
      "source": [
        "def add(x, y):\n",
        "  return x + y"
      ],
      "execution_count": null,
      "outputs": []
    },
    {
      "cell_type": "code",
      "metadata": {
        "id": "sIMevlU6ba_A"
      },
      "source": [
        "def subtract(x, y):\n",
        "  return x, y):"
      ],
      "execution_count": null,
      "outputs": []
    },
    {
      "cell_type": "code",
      "metadata": {
        "id": "PMDYTmsSbj1T"
      },
      "source": [
        "def multiply(x, y):\n",
        "  return x * y"
      ],
      "execution_count": null,
      "outputs": []
    },
    {
      "cell_type": "code",
      "metadata": {
        "id": "xsrcitB8bujH"
      },
      "source": [
        "# Take input from a user\n",
        "\n",
        "print('Selcet an operation: ')\n",
        "print('1 - Addition')\n",
        "print('2 - Subtraction' )\n",
        "print('3 - Multiply')\n",
        "print('4 - Divide')\n",
        "\n",
        "chioce = input('Enter a choice (1/2/3/4): ')\n",
        "\n",
        "num1 = int(input('Enter the first number: '))\n",
        "num2 = int(input('Enter the second numbers'))\n",
        "\n",
        "if choi"
      ],
      "execution_count": null,
      "outputs": []
    }
  ]
}